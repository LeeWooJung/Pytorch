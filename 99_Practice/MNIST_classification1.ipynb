{
 "cells": [
  {
   "cell_type": "code",
   "execution_count": 43,
   "metadata": {},
   "outputs": [],
   "source": [
    "# Packages\n",
    "\n",
    "import torch\n",
    "import torch.nn as nn\n",
    "import torch.optim as optim\n",
    "\n",
    "from torch.utils.data import DataLoader\n",
    "from torchvision.datasets import MNIST\n",
    "import torchvision.transforms as transforms\n",
    "\n",
    "import random\n",
    "import numpy as np\n",
    "import matplotlib.pyplot as plt"
   ]
  },
  {
   "cell_type": "code",
   "execution_count": 32,
   "metadata": {},
   "outputs": [],
   "source": [
    "# Seed\n",
    "seed = 256\n",
    "random.seed(seed)\n",
    "np.random.seed(seed)\n",
    "torch.manual_seed(seed)\n",
    "torch.backends.cudnn.deterministic = True\n",
    "torch.backends.cudnn.benchmark = False"
   ]
  },
  {
   "cell_type": "code",
   "execution_count": 45,
   "metadata": {},
   "outputs": [],
   "source": [
    "# Variables\n",
    "input_size = 28 * 28\n",
    "hid_1 = 28 * 4\n",
    "output_size = 10\n",
    "Epochs = 15\n",
    "batch_size = 64\n",
    "device = \"cuda\" if torch.cuda.is_available() else \"cpu\""
   ]
  },
  {
   "cell_type": "code",
   "execution_count": 2,
   "metadata": {},
   "outputs": [],
   "source": [
    "# Normalize data with mean = 0.5, std = 1.0\n",
    "Transforms = transforms.Compose([\n",
    "    transforms.ToTensor(),\n",
    "    transforms.Normalize((0.5,), (1.0))\n",
    "])"
   ]
  },
  {
   "cell_type": "code",
   "execution_count": 11,
   "metadata": {},
   "outputs": [
    {
     "name": "stdout",
     "output_type": "stream",
     "text": [
      "Downloading http://yann.lecun.com/exdb/mnist/train-images-idx3-ubyte.gz to ./dataset/MNIST/raw/train-images-idx3-ubyte.gz\n"
     ]
    },
    {
     "data": {
      "application/vnd.jupyter.widget-view+json": {
       "model_id": "d39ee8b278d244f3880ad938f05946a1",
       "version_major": 2,
       "version_minor": 0
      },
      "text/plain": [
       "HBox(children=(FloatProgress(value=1.0, bar_style='info', max=1.0), HTML(value='')))"
      ]
     },
     "metadata": {},
     "output_type": "display_data"
    },
    {
     "name": "stdout",
     "output_type": "stream",
     "text": [
      "Extracting ./dataset/MNIST/raw/train-images-idx3-ubyte.gz to ./dataset/MNIST/raw\n",
      "Downloading http://yann.lecun.com/exdb/mnist/train-labels-idx1-ubyte.gz to ./dataset/MNIST/raw/train-labels-idx1-ubyte.gz\n"
     ]
    },
    {
     "data": {
      "application/vnd.jupyter.widget-view+json": {
       "model_id": "4b8eed4cd9514ec7a4260dea53553ff7",
       "version_major": 2,
       "version_minor": 0
      },
      "text/plain": [
       "HBox(children=(FloatProgress(value=1.0, bar_style='info', max=1.0), HTML(value='')))"
      ]
     },
     "metadata": {},
     "output_type": "display_data"
    },
    {
     "name": "stdout",
     "output_type": "stream",
     "text": [
      "Extracting ./dataset/MNIST/raw/train-labels-idx1-ubyte.gz to ./dataset/MNIST/raw\n",
      "Downloading http://yann.lecun.com/exdb/mnist/t10k-images-idx3-ubyte.gz to ./dataset/MNIST/raw/t10k-images-idx3-ubyte.gz\n",
      "\n",
      "\n"
     ]
    },
    {
     "data": {
      "application/vnd.jupyter.widget-view+json": {
       "model_id": "14f8fcb623774f848658201e10644dfc",
       "version_major": 2,
       "version_minor": 0
      },
      "text/plain": [
       "HBox(children=(FloatProgress(value=1.0, bar_style='info', max=1.0), HTML(value='')))"
      ]
     },
     "metadata": {},
     "output_type": "display_data"
    },
    {
     "name": "stdout",
     "output_type": "stream",
     "text": [
      "Extracting ./dataset/MNIST/raw/t10k-images-idx3-ubyte.gz to ./dataset/MNIST/raw\n",
      "Downloading http://yann.lecun.com/exdb/mnist/t10k-labels-idx1-ubyte.gz to ./dataset/MNIST/raw/t10k-labels-idx1-ubyte.gz\n"
     ]
    },
    {
     "data": {
      "application/vnd.jupyter.widget-view+json": {
       "model_id": "cda438b41f234f9a8f62b7ac748501ca",
       "version_major": 2,
       "version_minor": 0
      },
      "text/plain": [
       "HBox(children=(FloatProgress(value=1.0, bar_style='info', max=1.0), HTML(value='')))"
      ]
     },
     "metadata": {},
     "output_type": "display_data"
    },
    {
     "name": "stdout",
     "output_type": "stream",
     "text": [
      "Extracting ./dataset/MNIST/raw/t10k-labels-idx1-ubyte.gz to ./dataset/MNIST/raw\n",
      "Processing...\n",
      "Done!\n"
     ]
    }
   ],
   "source": [
    "# Download Mnist dataset\n",
    "path = './dataset'\n",
    "train_data = MNIST(path, transform=Transforms, train=True, download=True)\n",
    "test_data = MNIST(path, transform=Transforms, train=False, download=True)"
   ]
  },
  {
   "cell_type": "code",
   "execution_count": 33,
   "metadata": {},
   "outputs": [
    {
     "name": "stdout",
     "output_type": "stream",
     "text": [
      "60000\n",
      "10000\n",
      "10000\n",
      "torch.Size([28, 28])\n",
      "5\n"
     ]
    },
    {
     "data": {
      "image/png": "[encoded data removed]",
      "text/plain": [
       "<Figure size 432x288 with 1 Axes>"
      ]
     },
     "metadata": {
      "needs_background": "light"
     },
     "output_type": "display_data"
    }
   ],
   "source": [
    "# Check the MNIST data\n",
    "print(len(train_data))\n",
    "print(len(test_data))\n",
    "\n",
    "temp_data = train_data.data[0]\n",
    "temp_label = train_data.targets[0].item()\n",
    "\n",
    "plt.imshow(temp_data.numpy())\n",
    "print(temp_data.shape)\n",
    "print(temp_label)"
   ]
  },
  {
   "cell_type": "code",
   "execution_count": 34,
   "metadata": {},
   "outputs": [],
   "source": [
    "# Batch\n",
    "train_iterator = DataLoader(dataset = train_data,\n",
    "                            batch_size = batch_size,\n",
    "                            shuffle = True,\n",
    "                            drop_last = True)"
   ]
  },
  {
   "cell_type": "code",
   "execution_count": 42,
   "metadata": {},
   "outputs": [],
   "source": [
    "# Model\n",
    "linear1 = nn.Linear(input_size, hid_1, bias = True)\n",
    "linear2 = nn.Linear(hid_1, output_size, bias = True)\n",
    "\n",
    "model = nn.Sequential(linear1, nn.ReLU(), linear2).to(device)"
   ]
  },
  {
   "cell_type": "code",
   "execution_count": 44,
   "metadata": {},
   "outputs": [],
   "source": [
    "# Criterion, optimizer\n",
    "criterion = nn.CrossEntropyLoss().to(device)\n",
    "optimizer = optim.Adam(model.parameters())"
   ]
  },
  {
   "cell_type": "code",
   "execution_count": 46,
   "metadata": {},
   "outputs": [
    {
     "name": "stdout",
     "output_type": "stream",
     "text": [
      "Epoch: 0001 cost = 0.439732164\n",
      "Epoch: 0002 cost = 0.238480031\n",
      "Epoch: 0003 cost = 0.172742635\n",
      "Epoch: 0004 cost = 0.136799514\n",
      "Epoch: 0005 cost = 0.113878042\n",
      "Epoch: 0006 cost = 0.100105740\n",
      "Epoch: 0007 cost = 0.086349025\n",
      "Epoch: 0008 cost = 0.078291170\n",
      "Epoch: 0009 cost = 0.071172722\n",
      "Epoch: 0010 cost = 0.066217229\n",
      "Epoch: 0011 cost = 0.060329273\n",
      "Epoch: 0012 cost = 0.055009604\n",
      "Epoch: 0013 cost = 0.052673806\n",
      "Epoch: 0014 cost = 0.049155239\n",
      "Epoch: 0015 cost = 0.043865431\n"
     ]
    }
   ],
   "source": [
    "# Train model\n",
    "\n",
    "for epoch in range(Epochs):\n",
    "    \n",
    "    avg_cost = 0\n",
    "    total_batch = len(train_iterator)\n",
    "    model.train()\n",
    "    \n",
    "    for X, y in train_iterator:\n",
    "        X = X.view(-1, input_size).to(device)\n",
    "        y = y.to(device)\n",
    "        \n",
    "        optimizer.zero_grad()\n",
    "        output = model(X)\n",
    "        loss = criterion(output, y)\n",
    "        loss.backward()\n",
    "        optimizer.step()\n",
    "        \n",
    "        avg_cost += loss / total_batch\n",
    "        \n",
    "    print('Epoch:', '%04d' % (epoch + 1), 'cost =', '{:.9f}'.format(avg_cost))"
   ]
  },
  {
   "cell_type": "code",
   "execution_count": 67,
   "metadata": {},
   "outputs": [
    {
     "name": "stdout",
     "output_type": "stream",
     "text": [
      "Test Accuracy: 0.902099967\n",
      "Label:  3\n",
      "Prediction:  3\n",
      "Single output:\n",
      "tensor([[-1198.1171, -1969.3837, -1679.5087,  2891.7388, -4509.0635,   369.8907,\n",
      "         -6435.2344, -2651.6714, -3040.2004,  -973.6569]], device='cuda:0')\n"
     ]
    },
    {
     "data": {
      "image/png": "[encoded data removed]",
      "text/plain": [
       "<Figure size 432x288 with 1 Axes>"
      ]
     },
     "metadata": {
      "needs_background": "light"
     },
     "output_type": "display_data"
    }
   ],
   "source": [
    "# Test\n",
    "\n",
    "model.eval()\n",
    "with torch.no_grad():\n",
    "    X = test_data.test_data.view(-1, input_size).float().to(device)\n",
    "    y = test_data.test_labels.to(device)\n",
    "    \n",
    "    output = model(X)\n",
    "    correct = torch.argmax(output, 1) == y\n",
    "    acc = correct.float().mean().item()\n",
    "    print(\"Test Accuracy: {:.9f}\".format(acc))\n",
    "    \n",
    "    # plot ref: https://m.blog.naver.com/PostView.nhn?blogId=hongjg3229&logNo=221560700128&proxyReferer=https:%2F%2Fwww.google.com%2F\n",
    "    # Get one and predict\n",
    "    r = random.randint(0, len(test_data) - 1)\n",
    "    X_single_data = test_data.test_data[r].view(-1, input_size).float().to(device)\n",
    "    Y_single_data = test_data.test_labels[r].to(device)\n",
    "\n",
    "    print('Label: ', Y_single_data.item())\n",
    "    single_prediction = model(X_single_data)\n",
    "    print('Prediction: ', torch.argmax(single_prediction, 1).item())\n",
    "    # check single output\n",
    "    print(\"Single output:\")\n",
    "    print(single_prediction)\n",
    "\n",
    "    plt.imshow(test_data.test_data[r:r + 1].view(28, 28), cmap='Greys', interpolation='nearest')\n",
    "    plt.show()"
   ]
  },
  {
   "cell_type": "code",
   "execution_count": null,
   "metadata": {},
   "outputs": [],
   "source": []
  }
 ],
 "metadata": {
  "kernelspec": {
   "display_name": "Python 3",
   "language": "python",
   "name": "python3"
  },
  "language_info": {
   "codemirror_mode": {
    "name": "ipython",
    "version": 3
   },
   "file_extension": ".py",
   "mimetype": "text/x-python",
   "name": "python",
   "nbconvert_exporter": "python",
   "pygments_lexer": "ipython3",
   "version": "3.6.10"
  }
 },
 "nbformat": 4,
 "nbformat_minor": 4
}
