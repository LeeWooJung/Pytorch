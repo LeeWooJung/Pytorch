{
 "cells": [
  {
   "cell_type": "code",
   "execution_count": 1,
   "metadata": {},
   "outputs": [],
   "source": [
    "# Packages\n",
    "\n",
    "import torch\n",
    "import torch.nn as nn\n",
    "import torch.optim as optim\n",
    "\n",
    "from torch.utils.data import DataLoader\n",
    "from torchvision.datasets import MNIST\n",
    "import torchvision.transforms as transforms\n",
    "\n",
    "import random\n",
    "import numpy as np\n",
    "import matplotlib.pyplot as plt"
   ]
  },
  {
   "cell_type": "code",
   "execution_count": 2,
   "metadata": {},
   "outputs": [],
   "source": [
    "# Seed\n",
    "seed = 256\n",
    "random.seed(seed)\n",
    "np.random.seed(seed)\n",
    "torch.manual_seed(seed)\n",
    "torch.backends.cudnn.deterministic = True\n",
    "torch.backends.cudnn.benchmark = False"
   ]
  },
  {
   "cell_type": "code",
   "execution_count": 3,
   "metadata": {},
   "outputs": [],
   "source": [
    "# Variables\n",
    "input_size = 28 * 28\n",
    "hid_1 = 28 * 4\n",
    "output_size = 10\n",
    "Epochs = 15\n",
    "batch_size = 64\n",
    "device = \"cuda\" if torch.cuda.is_available() else \"cpu\""
   ]
  },
  {
   "cell_type": "code",
   "execution_count": 4,
   "metadata": {},
   "outputs": [],
   "source": [
    "# Normalize data with mean = 0.5, std = 1.0\n",
    "Transforms = transforms.Compose([\n",
    "    transforms.ToTensor(),\n",
    "    transforms.Normalize((0.5,), (1.0))\n",
    "])"
   ]
  },
  {
   "cell_type": "code",
   "execution_count": 5,
   "metadata": {},
   "outputs": [],
   "source": [
    "# Download Mnist dataset\n",
    "path = './dataset'\n",
    "train_data = MNIST(path, transform=Transforms, train=True, download=True)\n",
    "test_data = MNIST(path, transform=Transforms, train=False, download=True)"
   ]
  },
  {
   "cell_type": "code",
   "execution_count": 6,
   "metadata": {},
   "outputs": [
    {
     "name": "stdout",
     "output_type": "stream",
     "text": [
      "60000\n",
      "10000\n",
      "torch.Size([28, 28])\n",
      "5\n"
     ]
    },
    {
     "data": {
      "image/png": "[encoded data removed]",
      "text/plain": [
       "<Figure size 432x288 with 1 Axes>"
      ]
     },
     "metadata": {
      "needs_background": "light"
     },
     "output_type": "display_data"
    }
   ],
   "source": [
    "# Check the MNIST data\n",
    "print(len(train_data))\n",
    "print(len(test_data))\n",
    "\n",
    "temp_data = train_data.data[0]\n",
    "temp_label = train_data.targets[0].item()\n",
    "\n",
    "plt.imshow(temp_data.view(28, 28), cmap='Greys', interpolation='nearest')\n",
    "print(temp_data.shape)\n",
    "print(temp_label)"
   ]
  },
  {
   "cell_type": "code",
   "execution_count": 7,
   "metadata": {},
   "outputs": [],
   "source": [
    "# Batch\n",
    "train_iterator = DataLoader(dataset = train_data,\n",
    "                            batch_size = batch_size,\n",
    "                            shuffle = True,\n",
    "                            drop_last = True)"
   ]
  },
  {
   "cell_type": "code",
   "execution_count": 8,
   "metadata": {},
   "outputs": [],
   "source": [
    "# Model\n",
    "linear1 = nn.Linear(input_size, hid_1, bias = True)\n",
    "linear2 = nn.Linear(hid_1, output_size, bias = True)\n",
    "\n",
    "model = nn.Sequential(linear1, nn.ReLU(), linear2).to(device)"
   ]
  },
  {
   "cell_type": "code",
   "execution_count": 9,
   "metadata": {},
   "outputs": [],
   "source": [
    "# Criterion, optimizer\n",
    "criterion = nn.CrossEntropyLoss().to(device)\n",
    "optimizer = optim.Adam(model.parameters())"
   ]
  },
  {
   "cell_type": "code",
   "execution_count": 10,
   "metadata": {},
   "outputs": [
    {
     "name": "stdout",
     "output_type": "stream",
     "text": [
      "Epoch: 0001 cost = 0.437891275\n",
      "Epoch: 0002 cost = 0.239951164\n",
      "Epoch: 0003 cost = 0.172806293\n",
      "Epoch: 0004 cost = 0.137031689\n",
      "Epoch: 0005 cost = 0.114373721\n",
      "Epoch: 0006 cost = 0.097971417\n",
      "Epoch: 0007 cost = 0.087448575\n",
      "Epoch: 0008 cost = 0.077542007\n",
      "Epoch: 0009 cost = 0.073330358\n",
      "Epoch: 0010 cost = 0.064646557\n",
      "Epoch: 0011 cost = 0.060484178\n",
      "Epoch: 0012 cost = 0.056417041\n",
      "Epoch: 0013 cost = 0.052947879\n",
      "Epoch: 0014 cost = 0.050034516\n",
      "Epoch: 0015 cost = 0.044890270\n"
     ]
    }
   ],
   "source": [
    "# Train model\n",
    "\n",
    "for epoch in range(Epochs):\n",
    "    \n",
    "    avg_cost = 0\n",
    "    total_batch = len(train_iterator)\n",
    "    model.train()\n",
    "    \n",
    "    for X, y in train_iterator:\n",
    "        X = X.view(-1, input_size).to(device)\n",
    "        y = y.to(device)\n",
    "        \n",
    "        optimizer.zero_grad()\n",
    "        output = model(X)\n",
    "        loss = criterion(output, y)\n",
    "        loss.backward()\n",
    "        optimizer.step()\n",
    "        \n",
    "        avg_cost += loss / total_batch\n",
    "        \n",
    "    print('Epoch:', '%04d' % (epoch + 1), 'cost =', '{:.9f}'.format(avg_cost))"
   ]
  },
  {
   "cell_type": "code",
   "execution_count": 11,
   "metadata": {},
   "outputs": [
    {
     "name": "stdout",
     "output_type": "stream",
     "text": [
      "Test Accuracy: 0.905399978\n",
      "Label:  8\n",
      "Prediction:  8\n",
      "Single output:\n",
      "tensor([[ -693.4775, -2403.5049,   672.9318,   234.8072, -6869.8223, -3371.7263,\n",
      "         -5444.3975, -2714.3857,  1443.2938, -1392.8663]], device='cuda:0')\n"
     ]
    },
    {
     "name": "stderr",
     "output_type": "stream",
     "text": [
      "/home/wjlee/anaconda3/envs/glove/lib/python3.6/site-packages/torchvision/datasets/mnist.py:60: UserWarning: test_data has been renamed data\n",
      "  warnings.warn(\"test_data has been renamed data\")\n",
      "/home/wjlee/anaconda3/envs/glove/lib/python3.6/site-packages/torchvision/datasets/mnist.py:50: UserWarning: test_labels has been renamed targets\n",
      "  warnings.warn(\"test_labels has been renamed targets\")\n"
     ]
    },
    {
     "data": {
      "image/png": "[encoded data removed]",
      "text/plain": [
       "<Figure size 432x288 with 1 Axes>"
      ]
     },
     "metadata": {
      "needs_background": "light"
     },
     "output_type": "display_data"
    }
   ],
   "source": [
    "# Test\n",
    "\n",
    "model.eval()\n",
    "with torch.no_grad():\n",
    "    X = test_data.test_data.view(-1, input_size).float().to(device)\n",
    "    y = test_data.test_labels.to(device)\n",
    "    \n",
    "    output = model(X)\n",
    "    correct = torch.argmax(output, 1) == y\n",
    "    acc = correct.float().mean().item()\n",
    "    print(\"Test Accuracy: {:.9f}\".format(acc))\n",
    "    \n",
    "    # plot ref: https://m.blog.naver.com/PostView.nhn?blogId=hongjg3229&logNo=221560700128&proxyReferer=https:%2F%2Fwww.google.com%2F\n",
    "    # Get one and predict\n",
    "    r = random.randint(0, len(test_data) - 1)\n",
    "    X_single_data = test_data.test_data[r].view(-1, input_size).float().to(device)\n",
    "    Y_single_data = test_data.test_labels[r].to(device)\n",
    "\n",
    "    print('Label: ', Y_single_data.item())\n",
    "    single_prediction = model(X_single_data)\n",
    "    print('Prediction: ', torch.argmax(single_prediction, 1).item())\n",
    "    # check single output\n",
    "    print(\"Single output:\")\n",
    "    print(single_prediction)\n",
    "\n",
    "    plt.imshow(test_data.test_data[r].view(28, 28), cmap='Greys', interpolation='nearest')\n",
    "    plt.show()"
   ]
  },
  {
   "cell_type": "code",
   "execution_count": null,
   "metadata": {},
   "outputs": [],
   "source": []
  }
 ],
 "metadata": {
  "kernelspec": {
   "display_name": "Python 3",
   "language": "python",
   "name": "python3"
  },
  "language_info": {
   "codemirror_mode": {
    "name": "ipython",
    "version": 3
   },
   "file_extension": ".py",
   "mimetype": "text/x-python",
   "name": "python",
   "nbconvert_exporter": "python",
   "pygments_lexer": "ipython3",
   "version": "3.6.10"
  }
 },
 "nbformat": 4,
 "nbformat_minor": 4
}
